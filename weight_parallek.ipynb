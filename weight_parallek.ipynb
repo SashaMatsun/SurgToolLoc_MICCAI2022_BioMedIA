{
 "cells": [
  {
   "cell_type": "code",
   "execution_count": 5,
   "metadata": {},
   "outputs": [],
   "source": [
    "import torch\n",
    "import timm\n"
   ]
  },
  {
   "cell_type": "code",
   "execution_count": 6,
   "metadata": {},
   "outputs": [
    {
     "ename": "AttributeError",
     "evalue": "'ConvNeXt' object has no attribute 'fc'",
     "output_type": "error",
     "traceback": [
      "\u001b[0;31m---------------------------------------------------------------------------\u001b[0m",
      "\u001b[0;31mAttributeError\u001b[0m                            Traceback (most recent call last)",
      "\u001b[1;32m/l/users/mugariya.farooq/miccai/weight_parallek.ipynb Cell 2\u001b[0m in \u001b[0;36m<cell line: 4>\u001b[0;34m()\u001b[0m\n\u001b[1;32m      <a href='vscode-notebook-cell://ssh-remote%2Bcscc.mbzuai.ac.ae/l/users/mugariya.farooq/miccai/weight_parallek.ipynb#W3sdnNjb2RlLXJlbW90ZQ%3D%3D?line=1'>2</a>\u001b[0m model \u001b[39m=\u001b[39m torch\u001b[39m.\u001b[39mnn\u001b[39m.\u001b[39mDataParallel(module\u001b[39m=\u001b[39mmodel)\n\u001b[1;32m      <a href='vscode-notebook-cell://ssh-remote%2Bcscc.mbzuai.ac.ae/l/users/mugariya.farooq/miccai/weight_parallek.ipynb#W3sdnNjb2RlLXJlbW90ZQ%3D%3D?line=2'>3</a>\u001b[0m \u001b[39m# model.load_state_dict(torch.load(weights_pth)) \u001b[39;00m\n\u001b[0;32m----> <a href='vscode-notebook-cell://ssh-remote%2Bcscc.mbzuai.ac.ae/l/users/mugariya.farooq/miccai/weight_parallek.ipynb#W3sdnNjb2RlLXJlbW90ZQ%3D%3D?line=3'>4</a>\u001b[0m n_in_f \u001b[39m=\u001b[39m model\u001b[39m.\u001b[39;49mmodule\u001b[39m.\u001b[39;49mfc\u001b[39m.\u001b[39min_features\n\u001b[1;32m      <a href='vscode-notebook-cell://ssh-remote%2Bcscc.mbzuai.ac.ae/l/users/mugariya.farooq/miccai/weight_parallek.ipynb#W3sdnNjb2RlLXJlbW90ZQ%3D%3D?line=4'>5</a>\u001b[0m model\u001b[39m.\u001b[39mmodule\u001b[39m.\u001b[39mfc \u001b[39m=\u001b[39m torch\u001b[39m.\u001b[39mnn\u001b[39m.\u001b[39mLinear(n_in_f, \u001b[39m14\u001b[39m)\n",
      "File \u001b[0;32m~/.conda/envs/miccai/lib/python3.10/site-packages/torch/nn/modules/module.py:1207\u001b[0m, in \u001b[0;36mModule.__getattr__\u001b[0;34m(self, name)\u001b[0m\n\u001b[1;32m   1205\u001b[0m     \u001b[39mif\u001b[39;00m name \u001b[39min\u001b[39;00m modules:\n\u001b[1;32m   1206\u001b[0m         \u001b[39mreturn\u001b[39;00m modules[name]\n\u001b[0;32m-> 1207\u001b[0m \u001b[39mraise\u001b[39;00m \u001b[39mAttributeError\u001b[39;00m(\u001b[39m\"\u001b[39m\u001b[39m'\u001b[39m\u001b[39m{}\u001b[39;00m\u001b[39m'\u001b[39m\u001b[39m object has no attribute \u001b[39m\u001b[39m'\u001b[39m\u001b[39m{}\u001b[39;00m\u001b[39m'\u001b[39m\u001b[39m\"\u001b[39m\u001b[39m.\u001b[39mformat(\n\u001b[1;32m   1208\u001b[0m     \u001b[39mtype\u001b[39m(\u001b[39mself\u001b[39m)\u001b[39m.\u001b[39m\u001b[39m__name__\u001b[39m, name))\n",
      "\u001b[0;31mAttributeError\u001b[0m: 'ConvNeXt' object has no attribute 'fc'"
     ]
    }
   ],
   "source": [
    "model = timm.create_model(\"convnext_small\", pretrained= False,num_classes=6)\n",
    "model = torch.nn.DataParallel(module=model)\n",
    "# model.load_state_dict(torch.load(weights_pth)) \n",
    "n_in_f = model.module.fc.in_features\n",
    "model.module.fc = torch.nn.Linear(n_in_f, 14)"
   ]
  },
  {
   "cell_type": "code",
   "execution_count": 14,
   "metadata": {},
   "outputs": [
    {
     "data": {
      "text/plain": [
       "Linear(in_features=768, out_features=6, bias=True)"
      ]
     },
     "execution_count": 14,
     "metadata": {},
     "output_type": "execute_result"
    }
   ],
   "source": [
    "model.module.head.fc"
   ]
  },
  {
   "cell_type": "code",
   "execution_count": 4,
   "metadata": {},
   "outputs": [
    {
     "ename": "NameError",
     "evalue": "name 'DataParallel' is not defined",
     "output_type": "error",
     "traceback": [
      "\u001b[0;31m---------------------------------------------------------------------------\u001b[0m",
      "\u001b[0;31mNameError\u001b[0m                                 Traceback (most recent call last)",
      "\u001b[1;32m/l/users/mugariya.farooq/miccai/weight_parallek.ipynb Cell 2\u001b[0m in \u001b[0;36m<cell line: 2>\u001b[0;34m()\u001b[0m\n\u001b[1;32m      <a href='vscode-notebook-cell://ssh-remote%2Bcscc.mbzuai.ac.ae/l/users/mugariya.farooq/miccai/weight_parallek.ipynb#W1sdnNjb2RlLXJlbW90ZQ%3D%3D?line=0'>1</a>\u001b[0m model\n\u001b[0;32m----> <a href='vscode-notebook-cell://ssh-remote%2Bcscc.mbzuai.ac.ae/l/users/mugariya.farooq/miccai/weight_parallek.ipynb#W1sdnNjb2RlLXJlbW90ZQ%3D%3D?line=1'>2</a>\u001b[0m model \u001b[39m=\u001b[39m DataParallel(module\u001b[39m=\u001b[39mmodel)\n",
      "\u001b[0;31mNameError\u001b[0m: name 'DataParallel' is not defined"
     ]
    }
   ],
   "source": [
    "model\n",
    "model = DataParallel(module=model)"
   ]
  },
  {
   "cell_type": "code",
   "execution_count": null,
   "metadata": {},
   "outputs": [],
   "source": []
  }
 ],
 "metadata": {
  "kernelspec": {
   "display_name": "Python 3.10.4 64-bit ('miccai')",
   "language": "python",
   "name": "python3"
  },
  "language_info": {
   "codemirror_mode": {
    "name": "ipython",
    "version": 3
   },
   "file_extension": ".py",
   "mimetype": "text/x-python",
   "name": "python",
   "nbconvert_exporter": "python",
   "pygments_lexer": "ipython3",
   "version": "3.10.4"
  },
  "orig_nbformat": 4,
  "vscode": {
   "interpreter": {
    "hash": "4f6cfd28a4e6a9bb65512d55507f896ccd85344506a5e0f58c152825f029472b"
   }
  }
 },
 "nbformat": 4,
 "nbformat_minor": 2
}
