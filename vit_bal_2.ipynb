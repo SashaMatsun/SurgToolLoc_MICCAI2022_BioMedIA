{
 "cells": [
  {
   "cell_type": "code",
   "execution_count": 2,
   "metadata": {},
   "outputs": [],
   "source": [
    "import os\n",
    "import random\n",
    "import numpy as np\n",
    "import pandas as pd\n",
    "import matplotlib.pyplot as plt \n",
    "#https://analyticsindiamag.com/hands-on-vision-transformers-with-pytorch/"
   ]
  },
  {
   "cell_type": "code",
   "execution_count": 3,
   "metadata": {},
   "outputs": [
    {
     "name": "stderr",
     "output_type": "stream",
     "text": [
      "/home/mugariya.farooq/.conda/envs/miccai/lib/python3.10/site-packages/tqdm/auto.py:22: TqdmWarning: IProgress not found. Please update jupyter and ipywidgets. See https://ipywidgets.readthedocs.io/en/stable/user_install.html\n",
      "  from .autonotebook import tqdm as notebook_tqdm\n"
     ]
    }
   ],
   "source": [
    "# import Linformer\n",
    "\n",
    "from linformer import Linformer   \n",
    "import glob   \n",
    "from PIL import Image\n",
    "from itertools import chain   \n",
    "from vit_pytorch.efficient import ViT   \n",
    "from tqdm.notebook import tqdm   \n",
    "from __future__ import print_function"
   ]
  },
  {
   "cell_type": "code",
   "execution_count": 4,
   "metadata": {},
   "outputs": [],
   "source": [
    "# import torch and related libraries \n",
    "\n",
    "import torch   \n",
    "import torch.nn as nn\n",
    "import torch.optim as optim\n",
    "import torch.nn.functional as F\n",
    "from torchvision import datasets, transforms   \n",
    "from torch.optim.lr_scheduler import StepLR   \n",
    "from torch.utils.data import DataLoader, Dataset\n",
    "\n",
    "#to unzip the datasets\n",
    "import zipfile"
   ]
  },
  {
   "cell_type": "code",
   "execution_count": 5,
   "metadata": {},
   "outputs": [],
   "source": [
    "#sklearn to split the data\n",
    "\n",
    "from sklearn.model_selection import train_test_split"
   ]
  },
  {
   "cell_type": "code",
   "execution_count": 6,
   "metadata": {},
   "outputs": [],
   "source": [
    "#definining batch size, epocs, learning rate and gamma for training  \n",
    "\n",
    "batch_size = 256\n",
    "epochs = 5\n",
    "lr = 3e-5\n",
    "gamma = 0.7 #for learning rate scheduler"
   ]
  },
  {
   "cell_type": "code",
   "execution_count": null,
   "metadata": {},
   "outputs": [],
   "source": [
    "#data paths\n",
    "labels_train_path = 'miccai/labels_balanced_train.csv'\n",
    "labels_valid_path = 'miccai/labels_balanced_valid.csv'"
   ]
  }
 ],
 "metadata": {
  "kernelspec": {
   "display_name": "Python 3.10.4 64-bit ('miccai')",
   "language": "python",
   "name": "python3"
  },
  "language_info": {
   "codemirror_mode": {
    "name": "ipython",
    "version": 3
   },
   "file_extension": ".py",
   "mimetype": "text/x-python",
   "name": "python",
   "nbconvert_exporter": "python",
   "pygments_lexer": "ipython3",
   "version": "3.10.4"
  },
  "orig_nbformat": 4,
  "vscode": {
   "interpreter": {
    "hash": "4f6cfd28a4e6a9bb65512d55507f896ccd85344506a5e0f58c152825f029472b"
   }
  }
 },
 "nbformat": 4,
 "nbformat_minor": 2
}
